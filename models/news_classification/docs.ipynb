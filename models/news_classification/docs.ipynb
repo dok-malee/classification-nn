{
 "cells": [
  {
   "cell_type": "markdown",
   "source": [
    "TfidfVectorizer Parameters:\n",
    "1. **sublinear_tf (default=False):**\n",
    "   - It applies sublinear scaling to the term frequency. Sublinear scaling replaces tf with 1 + log(tf).\n",
    "\n",
    "2. **max_df (default=1.0):**\n",
    "   - When building the vocabulary, it ignores terms that have a document frequency strictly higher than the given threshold (expressed as an absolute count or a proportion of the documents if float). This can be used to remove terms that are too frequent and likely to be irrelevant.\n",
    "\n",
    "3. **min_df (default=1):**\n",
    "   - When building the vocabulary, it ignores terms that have a document frequency strictly lower than the given threshold. This could be an integer count or a proportion of documents as a float.\n",
    "\n",
    "4. **stop_words (default=None):**\n",
    "   - If \"english\", a built-in stop word list for English is used. You can also pass your own list of stop words, or None to indicate no stop words. Stop words are common words (e.g., \"the\", \"and\", \"is\") that are often removed because they don't contribute much to the content of the document.\n"
   ],
   "metadata": {
    "collapsed": false
   },
   "id": "bf60c9dacf4fb05f"
  },
  {
   "cell_type": "code",
   "execution_count": null,
   "outputs": [],
   "source": [],
   "metadata": {
    "collapsed": false
   },
   "id": "deb50784bfcba6ab"
  }
 ],
 "metadata": {
  "kernelspec": {
   "display_name": "Python 3",
   "language": "python",
   "name": "python3"
  },
  "language_info": {
   "codemirror_mode": {
    "name": "ipython",
    "version": 2
   },
   "file_extension": ".py",
   "mimetype": "text/x-python",
   "name": "python",
   "nbconvert_exporter": "python",
   "pygments_lexer": "ipython2",
   "version": "2.7.6"
  }
 },
 "nbformat": 4,
 "nbformat_minor": 5
}
